{
 "cells": [
  {
   "cell_type": "code",
   "execution_count": 1,
   "id": "latin-christopher",
   "metadata": {},
   "outputs": [],
   "source": [
    "from rex import WindX\n",
    "from albatross.requests import get_regions, request_wtk_point_data\n",
    "import pandas as pd"
   ]
  },
  {
   "cell_type": "code",
   "execution_count": null,
   "id": "incorporate-hybrid",
   "metadata": {},
   "outputs": [],
   "source": [
    "DATASETS = ['coordinates', 'inversemoninobukhovlength_2m', 'meta', 'precipitationrate_0m', 'pressure_0m', 'pressure_100m', 'pressure_200m', 'relativehumidity_2m', 'temperature_100m', 'temperature_10m', 'temperature_120m', 'temperature_140m', 'temperature_160m', 'temperature_200m', 'temperature_2m', 'temperature_40m', 'temperature_60m', 'temperature_80m', 'time_index', 'winddirection_100m', 'winddirection_10m', 'winddirection_120m', 'winddirection_140m', 'winddirection_160m', 'winddirection_200m', 'winddirection_40m', 'winddirection_60m', 'winddirection_80m', 'windspeed_100m', 'windspeed_10m', 'windspeed_120m', 'windspeed_140m', 'windspeed_160m', 'windspeed_200m', 'windspeed_40m', 'windspeed_60m', 'windspeed_80m']"
   ]
  },
  {
   "cell_type": "code",
   "execution_count": null,
   "id": "clean-mathematics",
   "metadata": {},
   "outputs": [],
   "source": [
    "get_regions(True)"
   ]
  },
  {
   "cell_type": "code",
   "execution_count": null,
   "id": "divine-slide",
   "metadata": {},
   "outputs": [],
   "source": [
    "from rex import WindX\n",
    "\n",
    "wtk_file = '/nrel/wtk/conus/wtk_conus_2010.h5'\n",
    "nwtc = (39.913561, -105.222422)\n",
    "with WindX(wtk_file, hsds=True) as f:\n",
    "    meta = f.meta\n",
    "    nwtc_wspd = f.get_lat_lon_df('windspeed_100m', nwtc)\n",
    "    nwtc_wdir = f.get_lat_lon_df('winddirection_100m', nwtc)\n",
    "    nwtc_press = f.get_lat_lon_df('pressure_100m', nwtc)"
   ]
  },
  {
   "cell_type": "code",
   "execution_count": null,
   "id": "imported-violation",
   "metadata": {},
   "outputs": [],
   "source": [
    "meta"
   ]
  },
  {
   "cell_type": "code",
   "execution_count": null,
   "id": "steady-cardiff",
   "metadata": {},
   "outputs": [],
   "source": [
    "col = nwtc_wspd.columns[0]\n",
    "nwtc_wspd.rename(columns={col: 'windspeed_100m'}, inplace=True)"
   ]
  },
  {
   "cell_type": "code",
   "execution_count": null,
   "id": "dangerous-piano",
   "metadata": {},
   "outputs": [],
   "source": [
    "col = nwtc_wdir.columns[0]\n",
    "nwtc_wdir.rename(columns={col: 'winddirection_100m'}, inplace=True)"
   ]
  },
  {
   "cell_type": "code",
   "execution_count": null,
   "id": "greater-desktop",
   "metadata": {},
   "outputs": [],
   "source": [
    "nwtc_press\n",
    "col = nwtc_press.columns[0]\n",
    "nwtc_press.rename(columns={col: 'pressure_100m'}, inplace=True)"
   ]
  },
  {
   "cell_type": "code",
   "execution_count": null,
   "id": "instant-aurora",
   "metadata": {},
   "outputs": [],
   "source": [
    "res = pd.concat([nwtc_wspd, nwtc_wdir, nwtc_press], axis=1)\n",
    "res"
   ]
  },
  {
   "cell_type": "code",
   "execution_count": null,
   "id": "derived-format",
   "metadata": {},
   "outputs": [],
   "source": [
    "region = 'conus'\n",
    "year = 2010\n",
    "lat_lon = (39.913561, -105.222422)\n",
    "params = ['windspeed_100m', 'winddirection_100m', 'pressure_100m']\n",
    "(data, meta) = request_wtk_point_data(region, year, lat_lon, params)\n",
    "data"
   ]
  },
  {
   "cell_type": "code",
   "execution_count": null,
   "id": "smart-enterprise",
   "metadata": {},
   "outputs": [],
   "source": []
  }
 ],
 "metadata": {
  "kernelspec": {
   "display_name": "albatross",
   "language": "python",
   "name": "env"
  },
  "language_info": {
   "codemirror_mode": {
    "name": "ipython",
    "version": 3
   },
   "file_extension": ".py",
   "mimetype": "text/x-python",
   "name": "python",
   "nbconvert_exporter": "python",
   "pygments_lexer": "ipython3",
   "version": "3.9.1"
  }
 },
 "nbformat": 4,
 "nbformat_minor": 5
}
